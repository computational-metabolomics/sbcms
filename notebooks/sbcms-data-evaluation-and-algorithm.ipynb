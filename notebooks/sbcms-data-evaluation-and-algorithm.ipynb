{
 "cells": [
  {
   "cell_type": "code",
   "execution_count": null,
   "metadata": {
    "Rmd_chunk_options": "setup, include = FALSE",
    "autoscroll": false,
    "collapsed": true
   },
   "outputs": [],
   "source": [
    "knitr::opts_chunk$set(\n",
    "    collapse = TRUE,\n",
    "    comment = \"#>\"\n",
    ")"
   ]
  },
  {
   "cell_type": "markdown",
   "metadata": {},
   "source": [
    "\n",
    "# Introduction\n",
    "\n",
    "This is a step by step tutorial on how to assess and/or correct signal drift and\n",
    "batch effects within/across a multi-batch direct infusion mass spectrometry\n",
    "(DIMS) dataset using the R package sbcms (Signal & Batch Correction for Mass\n",
    "Spectrometry). The same approach can be used on liquid chromatography mass\n",
    "spectrometry (LCMS) peak table as well.\n",
    "\n",
    "This tutorial assumes that you have basic R scripting skills. Here are some\n",
    "other resources you might find useful:\n",
    "\n",
    "[R introduction](http://www.r-tutor.com/r-introduction)\n",
    "\n",
    "[Reshaping Data](https://www.statmethods.net/management/reshape.html)\n",
    "\n",
    "[R cheat sheet](http://github.com/rstudio/cheatsheets/raw/master/base-r.pdf)\n",
    "\n",
    "# Installation\n",
    "\n",
    "You should have R version 3.4.1 or above and Rstudio installed to be able to\n",
    "run this notebook.\n",
    "\n",
    "Execute following commands from the R terminal.\n",
    "\n",
    "\n"
   ]
  },
  {
   "cell_type": "code",
   "execution_count": null,
   "metadata": {
    "Rmd_chunk_options": "echo=TRUE, message=FALSE, warning=FALSE, eval=FALSE",
    "autoscroll": false,
    "collapsed": true
   },
   "outputs": [],
   "source": [
    "install.packages(\"devtools\")\n",
    "install.packages(\"ggplot2\")\n",
    "install.packages(\"gridExtra\")\n",
    "install.packages(\"reshape2\")\n",
    "\n",
    "devtools::install_github(\"computational-metabolomics/pmp\")\n",
    "devtools::install_github(\"computational-metabolomics/sbcms\")"
   ]
  },
  {
   "cell_type": "markdown",
   "metadata": {},
   "source": [
    "\n",
    "Load the required libraries into the R environment\n"
   ]
  },
  {
   "cell_type": "code",
   "execution_count": null,
   "metadata": {
    "Rmd_chunk_options": "message=FALSE, warning=FALSE",
    "autoscroll": false,
    "collapsed": true
   },
   "outputs": [],
   "source": [
    "library(sbcms)\n",
    "library(ggplot2)\n",
    "library(reshape2)\n",
    "library(gridExtra)\n",
    "library(pmp)"
   ]
  },
  {
   "cell_type": "markdown",
   "metadata": {},
   "source": [
    "\n",
    "# Data set\n",
    "\n",
    "We will be using a small subset of 20 features of an DIMS data set consisting\n",
    "of 172 samples measured across 8 batches.\n",
    "More detailed description of the data set is available from @kirwan2014\n",
    "[MTBLS79](https://www.ebi.ac.uk/metabolights/MTBLS79)\n",
    "\n"
   ]
  },
  {
   "cell_type": "code",
   "execution_count": null,
   "metadata": {
    "autoscroll": false,
    "collapsed": true
   },
   "outputs": [],
   "source": [
    "summary(sbcdata$data[, seq(1, 2000, 100)])"
   ]
  },
  {
   "cell_type": "code",
   "execution_count": null,
   "metadata": {
    "autoscroll": false,
    "collapsed": true
   },
   "outputs": [],
   "source": [
    "#number of samples:\n",
    "nrow(sbcdata$data)"
   ]
  },
  {
   "cell_type": "code",
   "execution_count": null,
   "metadata": {
    "autoscroll": false,
    "collapsed": true
   },
   "outputs": [],
   "source": [
    "#Batches:\n",
    "unique(sbcdata$batch)"
   ]
  },
  {
   "cell_type": "code",
   "execution_count": null,
   "metadata": {
    "autoscroll": false,
    "collapsed": true
   },
   "outputs": [],
   "source": [
    "#Sample classes:\n",
    "unique(sbcdata$class)"
   ]
  },
  {
   "cell_type": "markdown",
   "metadata": {},
   "source": [
    "\n",
    "# Explorative example\n",
    "\n",
    "A more detailed overview and guidelines on strategies for quality control of\n",
    "mass spectrometry assays is detailed in recent work by @broadhurst2018.\n",
    "\n",
    "To evaluate if the data needs correction, it is common practice to examine the\n",
    "relative standard deviation (RSD) of the quality control (QC) samples and\n",
    "biological samples. RSD% is also sometimes referred to as the coefficient of\n",
    "variation (CV). An RSD% for the QC samples below 20-30% is commonly used as an\n",
    "acceptable level of technical variation where signal correction is not required.\n",
    "\n",
    "The following code calculates and plots the RSD% values of the features within\n",
    "the data set.\n",
    "\n"
   ]
  },
  {
   "cell_type": "code",
   "execution_count": null,
   "metadata": {
    "Rmd_chunk_options": "fig.height=9, fig.width=5, message=FALSE, warning=FALSE",
    "autoscroll": false,
    "collapsed": true
   },
   "outputs": [],
   "source": [
    "#  separate the LCMS data from the meta data\n",
    "data <- sbcdata$data[, seq(1, 2000, 100)]\n",
    "class <- sbcdata$class\n",
    "batch <- sbcdata$batch\n",
    "order <- c(1:nrow(data))\n",
    "\n",
    "# get index of QC samples\n",
    "QChits <- which(class == \"QC\")\n",
    "\n",
    "# small function to calculate RSD%\n",
    "FUN <- function(x) sd(x, na.rm=TRUE) / mean(x, na.rm=TRUE) * 100\n",
    "\n",
    "# RSD% of biological and QC samples within all 6 batches:\n",
    "out <- matrix(ncol=2, nrow=ncol(data))\n",
    "colnames(out) <- c(\"Sample\",\"QC\")\n",
    "rownames(out) <- colnames(data)\n",
    "\n",
    "# for each feature calculate RSD% for the samples and the QCs\n",
    "for (i in 1:ncol(data)) {\n",
    "    out[i, 1] <- FUN(data[-QChits, i]) # for samples\n",
    "    out[i, 2] <- FUN(data[QChits, i]) # for QCs\n",
    "}\n",
    "\n",
    "# prepare data for plotting\n",
    "plotdata <- melt(data.frame(out), variable.name=\"Class\", value.name=\"RSD\")\n",
    "plotdata$feature <- colnames(data)\n",
    "\n",
    "plotdata$RSD <- round(plotdata$RSD,0)\n",
    "plotdata$feature <- factor(plotdata$feature, ordered=TRUE,\n",
    "    levels=unique(plotdata$feature))\n",
    "\n",
    "# plot\n",
    "ggplot(data=plotdata, aes(x=Class, y=feature, fill=RSD)) +\n",
    "    geom_tile() +\n",
    "    geom_text(aes(label=RSD)) +\n",
    "    scale_fill_gradient2(low=\"black\", mid=\"white\", high=\"red\")"
   ]
  },
  {
   "cell_type": "markdown",
   "metadata": {},
   "source": [
    "\n",
    "A violin plot is a useful way of summarising the RSD% over all samples/QCs in\n",
    "the data set. Note a very high QC sample RSD% value for feature '409.05716'.\n"
   ]
  },
  {
   "cell_type": "code",
   "execution_count": null,
   "metadata": {
    "Rmd_chunk_options": "fig.width=6, fig.height=6",
    "autoscroll": false,
    "collapsed": true
   },
   "outputs": [],
   "source": [
    "ggplot(data=plotdata, aes(x=Class, y=RSD, fill=Class)) +\n",
    "    geom_violin(draw_quantiles=c(0.25,0.5,0.75)) +\n",
    "    ylab(\"RSD%\") +\n",
    "    theme(panel.background=element_blank())"
   ]
  },
  {
   "cell_type": "markdown",
   "metadata": {},
   "source": [
    "\n",
    "The plots indicates that there are some features with a QC RSD% lower than  30%,\n",
    "which is a commonly accepted threshold, but for some features QC RSD % exceeds\n",
    "30% and is similar to the signal variation of the biological samples.\n",
    "We can calculate similar statistics per batch and visualise the results with\n",
    "a box plot.\n",
    "\n"
   ]
  },
  {
   "cell_type": "code",
   "execution_count": null,
   "metadata": {
    "Rmd_chunk_options": "message=FALSE, warning=FALSE, fig.width=6, fig.height=6",
    "autoscroll": false,
    "collapsed": true
   },
   "outputs": [],
   "source": [
    "# prepare some matrices to store the results\n",
    "RSDQC <- matrix(ncol=8, nrow=ncol(data))\n",
    "RSDsample <- matrix(ncol=8, nrow=ncol(data))\n",
    "colnames(RSDQC) <- unique(batch)\n",
    "colnames(RSDsample) <- unique(batch)\n",
    "\n",
    "rownames(RSDQC) <- colnames(data)\n",
    "rownames(RSDsample) <- colnames(data)\n",
    "\n",
    "# for each feature\n",
    "for (i in 1:ncol(data)) {\n",
    "    # for each batch\n",
    "    for (nb in 1:8) {\n",
    "        # RSD% of QCs in this batch\n",
    "        RSDQC[i, nb] <- FUN(data[which(class == \"QC\" & batch == nb), i])\n",
    "        # RSD% of samples in this batch\n",
    "        RSDsample[i, nb] <- FUN(data[which(!class == \"QC\" & batch == nb), i])\n",
    "    }\n",
    "}\n",
    "\n",
    "# prepare results for plotting\n",
    "plotdataQC <- melt(as.data.frame(RSDQC), variable.name=\"batch\",\n",
    "    value.name=\"RSD\")\n",
    "plotdataQC$Class <- \"QC\"\n",
    "\n",
    "plotdataBio <- melt(as.data.frame(RSDsample), variable.name=\"batch\",\n",
    "    value.name=\"RSD\")\n",
    "plotdataBio$Class <- \"Sample\"\n",
    "\n",
    "plotdata <- rbind(plotdataQC, plotdataBio)\n",
    "\n",
    "plotdata$Class <- as.factor(plotdata$Class)\n",
    "\n",
    "# plot\n",
    "ggplot(data=plotdata, aes(x=Class, y=RSD, fill=Class)) + geom_boxplot() +\n",
    "    facet_wrap(~ batch, ncol=3) +\n",
    "    ylab(\"RSD%\") +\n",
    "    theme(panel.background=element_blank())"
   ]
  },
  {
   "cell_type": "markdown",
   "metadata": {},
   "source": [
    "\n",
    "**Summary of RSD% of QC samples**\n"
   ]
  },
  {
   "cell_type": "code",
   "execution_count": null,
   "metadata": {
    "autoscroll": false,
    "collapsed": true
   },
   "outputs": [],
   "source": [
    "summary(RSDQC)"
   ]
  },
  {
   "cell_type": "markdown",
   "metadata": {},
   "source": [
    "\n",
    "**Summary of RSD% of biological samples**\n"
   ]
  },
  {
   "cell_type": "code",
   "execution_count": null,
   "metadata": {
    "autoscroll": false,
    "collapsed": true
   },
   "outputs": [],
   "source": [
    "summary(RSDsample)"
   ]
  },
  {
   "cell_type": "markdown",
   "metadata": {},
   "source": [
    "\n",
    "From the above we can conclude that for every analytical batch RSD% tends to be\n",
    "higher in the analytical samples than it is in the QC samples for all 20\n",
    "measured features. A few outlier QC samples can be observed.\n",
    "\n",
    "An alternative measure of QC and biological sample variability is the so called\n",
    "d-ratio, which indicates if the technical variation within the QC samples\n",
    "exceeds the biological variation within biological samples.\n",
    "\n"
   ]
  },
  {
   "cell_type": "code",
   "execution_count": null,
   "metadata": {
    "Rmd_chunk_options": "message=FALSE, warning=FALSE, fig.width=6, fig.height=6",
    "autoscroll": false,
    "collapsed": true
   },
   "outputs": [],
   "source": [
    "\n",
    "# prepare a list of colours for plotting\n",
    "manual_color = c(\"#386cb0\", \"#ef3b2c\", \"#7fc97f\", \"#fdb462\", \"#984ea3\",\n",
    "    \"#a6cee3\", \"#778899\", \"#fb9a99\", \"#ffff33\")\n",
    "\n",
    "# Function to calculate median absolute deviation\n",
    "DRatfun <- function(samples, qcs) mad(qcs) / mad(samples)\n",
    "\n",
    "# prepare matrix for dratio output\n",
    "dratio <- matrix(ncol=8, nrow=ncol(data))\n",
    "colnames(dratio) <- unique(batch)\n",
    "rownames(dratio) <- colnames(data)\n",
    "\n",
    "# calculate dratio for each feature, per batch\n",
    "for (i in 1:nrow(dratio)){\n",
    "    for (nb in 1:8) {\n",
    "        dratio[i, nb] <- DRatfun(samples=data[which(!class == \"QC\" &\n",
    "        batch == nb), i], qcs=data[which(class == \"QC\" & batch == nb), i])\n",
    "    }\n",
    "}\n",
    "\n",
    "# prepare data for plotting\n",
    "dratio <- as.data.frame(round(dratio, 2))\n",
    "\n",
    "plotdata2 <- melt(dratio, variable.name=\"batch\")\n",
    "plotdata2$index <- colnames(data)\n",
    "plotdata2$index <- factor(plotdata2$index, ordered=TRUE,\n",
    "    levels=unique(plotdata2$index))\n",
    "\n",
    "ggplot(data=plotdata2, aes(x=index, y=value, color=batch)) +\n",
    "    geom_point(size=2) +\n",
    "    xlab(\"index\") + ylab(\"D-ratio\") +\n",
    "    geom_hline(yintercept=1) + theme(panel.background=element_blank()) +\n",
    "    scale_color_manual(values=manual_color) +\n",
    "    theme(axis.text.x=element_text(angle=90))"
   ]
  },
  {
   "cell_type": "markdown",
   "metadata": {},
   "source": [
    "\n",
    "The D-ratio is a convenient measure to assess if technical variation in the QC\n",
    "samples (MAD QC) is higher than the variation within the biological samples\n",
    "(MAD sample). Ratio values close to, or higher than 1  indicate that technical\n",
    "variation of the measured feature is higher than the biological variation and\n",
    "therefore should be treated carefully during interperation of the data set.\n",
    "The colors in the figure above indicate different analytical batches. In the\n",
    "example above we can see that feature '409.05716' has a d-ratio value above 1\n",
    "in four batches, while for features '70.0336' and '393.35878' the D-ratio\n",
    "is reproducibly low within all eight batches.\n",
    "\n",
    "Principal components analysis (PCA) can be used to check common trends in data.\n",
    "Let's inspect the scores of the first two principal components and color samples\n",
    "by batch and class. For PCA model data should be normalised and missing values\n",
    "should be replaced using imputation, followed by data scaling. We will use PQN\n",
    "metod to normalise data, KNN for missing value imputation and finally glog\n",
    "scaling method using functions from\n",
    "`r Githubpkg(\"computational-metabolomics/pmp\")` R package.\n",
    "A more detailed overview is detailed in @guida2016.\n",
    "\n"
   ]
  },
  {
   "cell_type": "code",
   "execution_count": null,
   "metadata": {
    "Rmd_chunk_options": "fig.width=6, fig.height=6",
    "autoscroll": false,
    "collapsed": true
   },
   "outputs": [],
   "source": [
    "pca_data <- sbcdata$data[, seq(1, 2000, 100)]\n",
    "\n",
    "pca_data <- pmp::pqn_normalisation(pca_data, classes=class, qc_label=\"QC\")[[1]]\n",
    "pca_data <- pmp::mv_imputation(pca_data, method=\"KNN\", k=5, rowmax=0.5,\n",
    "    colmax=0.5, maxp=NULL, check_df=FALSE)\n",
    "pca_data <- pmp::glog_transformation(pca_data, classes=class, qc_label=\"QC\")\n",
    "\n",
    "pca_data <- prcomp(t(pca_data), center=TRUE, scale=FALSE)\n",
    "exp_var_pca <- round(((pca_data$sdev^2)/sum(pca_data$sdev^2)*100)[1:2], 2)\n",
    "\n",
    "plots <- list()\n",
    "\n",
    "plotdata <- data.frame(PC1=pca_data$x[, 1], PC2=pca_data$x[, 2],\n",
    "    batch=as.factor(batch), class=class)\n",
    "\n",
    "plots[[1]] <- ggplot(data=plotdata, aes(x=PC1, y=PC2, col=batch)) +\n",
    "    geom_point(size=2) +\n",
    "    theme(panel.background=element_blank()) +\n",
    "    scale_color_manual(values=manual_color) +\n",
    "    ggtitle(\"PCA scores, before correction\") +\n",
    "    xlab(paste0(\"PC1 (\", exp_var_pca[1] ,\" %)\")) +\n",
    "    ylab(paste0(\"PC2 (\", exp_var_pca[2] ,\" %)\"))\n",
    "\n",
    "plots[[2]] <- ggplot(data=plotdata, aes(x=PC1, y=PC2, col=class)) +\n",
    "    geom_point(size=2) +\n",
    "    theme(panel.background=element_blank()) +\n",
    "    scale_color_manual(values=manual_color) +\n",
    "    ggtitle(\"PCA scores plot, before correction\") +\n",
    "    xlab(paste0(\"PC1 (\", exp_var_pca[1] ,\" %)\")) +\n",
    "    ylab(paste0(\"PC2 (\", exp_var_pca[2] ,\" %)\"))\n",
    "\n",
    "grid.arrange(ncol=2, plots[[1]], plots[[2]])"
   ]
  },
  {
   "cell_type": "markdown",
   "metadata": {},
   "source": [
    "\n",
    "Left side plot above clearly shows that samples measured in batches 7 and 8 are\n",
    "differentiating from bathes 1 to 6. On the right hand side plot the seperation\n",
    "between samples classes is still visible, but also seperation between\n",
    "measurement batches is clearly visible across PC2 axis.\n",
    "\n",
    "## Correlation between signal intensity and measurment order of QC samples\n",
    "\n",
    "Alternatively, trends in measured signal related to measurement order could\n",
    "indicate if signal and/or batch correction is required. The plot below\n",
    "illustrates the measured signal of QC samples across all 8 batches. To be able\n",
    "to compare all 20 features measured at different signal ranges, the data will\n",
    "be scaled to unit variance (UV).\n",
    "\n"
   ]
  },
  {
   "cell_type": "code",
   "execution_count": null,
   "metadata": {
    "Rmd_chunk_options": "message=FALSE, warning=FALSE, fig.height=12, fig.width=6",
    "autoscroll": false,
    "collapsed": true
   },
   "outputs": [],
   "source": [
    "\n",
    "# autoscale the QC data\n",
    "QCdata <- data[QChits,]\n",
    "QCdata2 <- as.data.frame(scale(QCdata, scale=TRUE, center=TRUE))\n",
    "\n",
    "# prepare the data for plotting\n",
    "plotdata <- melt(QCdata2, value.name=\"intensity\")\n",
    "plotdata$index <- rep(1:nrow(QCdata2), ncol(QCdata2))\n",
    "\n",
    "plotdata$batch <- as.factor(batch[QChits])\n",
    "\n",
    "# plot\n",
    "ggplot(data=plotdata, aes(x=index, y=intensity, col=batch)) +\n",
    "    geom_point(size=2) +\n",
    "    facet_wrap(~ variable, ncol=4) +\n",
    "    theme(panel.background=element_blank()) +\n",
    "    scale_color_manual(values=manual_color)"
   ]
  },
  {
   "cell_type": "markdown",
   "metadata": {},
   "source": [
    "\n",
    "This figure indicates that there is some fluctuation in the measured signal\n",
    "across the eight batches, and that some features are following a similar\n",
    "pattern , i.e. they are correlated. We can create a similar plot to the one\n",
    "above including linear regression fit between measured data points.\n",
    "\n"
   ]
  },
  {
   "cell_type": "code",
   "execution_count": null,
   "metadata": {
    "Rmd_chunk_options": "warning=FALSE, fig.height=12, fig.width=6",
    "autoscroll": false,
    "collapsed": true
   },
   "outputs": [],
   "source": [
    "ggplot(data=plotdata, aes(x=index, y=intensity, col=batch)) +\n",
    "    geom_point(size=2) +\n",
    "    facet_wrap(~ variable, ncol=4) +\n",
    "    geom_smooth(method=\"lm\", se=TRUE, colour=\"black\") +\n",
    "    theme(panel.background=element_blank()) +\n",
    "    scale_color_manual(values=manual_color)"
   ]
  },
  {
   "cell_type": "markdown",
   "metadata": {},
   "source": [
    "\n",
    "The plot above indicates that some trends can be observed. It is possible to\n",
    "calculate actual correlation values within QC samples for each measured\n",
    "feature, and we will use Kendall's *tau* statistic to estimate a rank-based\n",
    "measure of association.\n",
    "\n"
   ]
  },
  {
   "cell_type": "code",
   "execution_count": null,
   "metadata": {
    "Rmd_chunk_options": "message=FALSE, warning=FALSE, fig.height=15, fig.width=10",
    "autoscroll": false,
    "collapsed": true
   },
   "outputs": [],
   "source": [
    "sampleorder <- c(1:nrow(QCdata))\n",
    "\n",
    "correlations <- matrix(ncol=2, nrow=ncol(data))\n",
    "rownames(correlations) <- colnames(data)\n",
    "colnames(correlations) <- c(\"tau\",\"p.value\")\n",
    "correlations <- as.data.frame(correlations)\n",
    "\n",
    "for (coln in 1:ncol(data)) {\n",
    "    stat <- cor.test(sampleorder, QCdata[, coln], method=\"kendall\")\n",
    "    correlations$tau[coln] <- stat$estimate\n",
    "    correlations$p.value[coln] <- stat$p.value\n",
    "}\n",
    "\n",
    "correlations\n",
    ""
   ]
  },
  {
   "cell_type": "markdown",
   "metadata": {},
   "source": [
    "\n",
    "While most of the calculated *tau* values and corresponding *p-values* indicate\n",
    "that there is not a strong trend between measurement order and the measured QC\n",
    "sample signal, some of the values don't match the trends we can observe in\n",
    "figure above. For features \"133.07379\" and \"376.03962\" calculated correlation\n",
    "values are aroun 0.6 and in figure above intensity increasing tren can be\n",
    "observed. For other features correlation values are relatively low, but in\n",
    "figure above clear trends in signal changes in batches 7 and 8 can be osberved.\n",
    "\n",
    "Alternatively it is possible to calculate correlation statistics per batch and\n",
    "visualise the results.\n",
    "\n"
   ]
  },
  {
   "cell_type": "code",
   "execution_count": null,
   "metadata": {
    "Rmd_chunk_options": "warning=FALSE, message=FALSE",
    "autoscroll": false,
    "collapsed": true
   },
   "outputs": [],
   "source": [
    "\n",
    "correlations <- matrix(ncol=8, nrow=ncol(data))\n",
    "rownames(correlations) <- colnames(data)\n",
    "colnames(correlations) <- unique(batch)\n",
    "\n",
    "QCbatch <- batch[QChits]\n",
    "\n",
    "for (coln in 1:ncol(data)) {\n",
    "    for (bch in 1:8) {\n",
    "        sampleorder <- scale(c(1:length(which(QCbatch==bch))),\n",
    "        center=TRUE, scale=TRUE)\n",
    "\n",
    "        if ((length(sampleorder) -\n",
    "        length(which(is.na(QCdata[which(QCbatch==bch), coln])))) >= 3){\n",
    "            correlations[coln,bch] <- cor.test(sampleorder,\n",
    "            QCdata[which(QCbatch==bch), coln], method=\"kendall\")$estimate\n",
    "        }\n",
    "    }\n",
    "}\n",
    "\n",
    "round(correlations, 2)"
   ]
  },
  {
   "cell_type": "code",
   "execution_count": null,
   "metadata": {
    "Rmd_chunk_options": "fig.wide=TRUE",
    "autoscroll": false,
    "collapsed": true
   },
   "outputs": [],
   "source": [
    "plotdata <- as.data.frame(correlations)\n",
    "plotdata$feature <- rownames(plotdata)\n",
    "\n",
    "plotdata <- melt(plotdata, variable.name=\"batch\")\n",
    "plotdata$feature <- factor(plotdata$feature, ordered=TRUE,\n",
    "    levels = unique(plotdata$feature))\n",
    "\n",
    "ggplot(data=plotdata, aes(x=batch, y=feature, fill=value)) +\n",
    "    geom_tile() + scale_fill_gradient2()\n",
    ""
   ]
  },
  {
   "cell_type": "markdown",
   "metadata": {},
   "source": [
    "\n",
    "Figure above indicates that there are significant acquisition order related\n",
    "trends within some batches. Fore example, bathes 4 and 6 for features\n",
    "'451.01081' and '409.05716'.\n",
    "\n",
    "## Using regression to estimate signal trends and variability within QC sample\n",
    "\n",
    "It is possible to apply univariate regression to the QC sample measurement\n",
    "order and signal intensity, to estimate correlation and spread (R2) of the\n",
    "measured data points.\n",
    "\n"
   ]
  },
  {
   "cell_type": "code",
   "execution_count": null,
   "metadata": {
    "autoscroll": false,
    "collapsed": true
   },
   "outputs": [],
   "source": [
    "sampleorder <- c(1:nrow(QCdata))\n",
    "\n",
    "regressionout <- matrix(ncol=3, nrow=ncol(data))\n",
    "rownames(regressionout) <- colnames(data)\n",
    "colnames(regressionout) <- c(\"R2.adj\",\"coefficient\",\"p.value\")\n",
    "regressionout <- as.data.frame(regressionout)\n",
    "\n",
    "for (coln in 1:ncol(data)) {\n",
    "    tempdat <- data.frame(x=sampleorder, y=QCdata[,coln])\n",
    "    stat <- lm(x ~ y, data=tempdat)\n",
    "    stat <- summary(stat)\n",
    "\n",
    "    regressionout$R2.adj[coln] <- stat$adj.r.squared\n",
    "    regressionout$coefficient[coln] <- stat$coefficients[2,1]\n",
    "    regressionout$p.value[coln] <- stat$coefficients[2,4]\n",
    "}\n",
    "\n",
    "regressionout"
   ]
  },
  {
   "cell_type": "markdown",
   "metadata": {},
   "source": [
    "\n",
    "And regression statistics per batch.\n",
    "\n"
   ]
  },
  {
   "cell_type": "code",
   "execution_count": null,
   "metadata": {
    "autoscroll": false,
    "collapsed": true
   },
   "outputs": [],
   "source": [
    "regPerBatch <- matrix(ncol=8, nrow=ncol(data))\n",
    "rownames(regPerBatch) <- colnames(data)\n",
    "colnames(regPerBatch) <- unique(batch)\n",
    "\n",
    "QCbatch <- batch[QChits]\n",
    "\n",
    "for (coln in 1:ncol(data)) {\n",
    "    for (bch in 1:8) {\n",
    "        sampleorder <- c(1:length(which(QCbatch==bch)))\n",
    "        tempdat <- data.frame(x=sampleorder, y=QCdata[which(QCbatch==bch),coln])\n",
    "        stat <- lm(x ~ y, data=tempdat)\n",
    "        stat <- summary(stat)\n",
    "        regPerBatch[coln,bch] <- stat$adj.r.squared\n",
    "    }\n",
    "}\n",
    "\n",
    "round(regPerBatch,2)"
   ]
  },
  {
   "cell_type": "code",
   "execution_count": null,
   "metadata": {
    "Rmd_chunk_options": "fig.wide=TRUE",
    "autoscroll": false,
    "collapsed": true
   },
   "outputs": [],
   "source": [
    "plotdata <- as.data.frame(regPerBatch)\n",
    "plotdata$feature <- rownames(plotdata)\n",
    "\n",
    "plotdata <- melt(plotdata, variable.name=\"batch\")\n",
    "plotdata$feature <- factor(plotdata$feature, ordered=TRUE,\n",
    "    levels=unique(plotdata$feature))\n",
    "\n",
    "ggplot(data=plotdata, aes(x=batch, y=feature, fill=value)) +\n",
    "    geom_tile() + scale_fill_gradient2()"
   ]
  },
  {
   "cell_type": "markdown",
   "metadata": {},
   "source": [
    "\n",
    "## Example of signal and batch correction for a single feature\n",
    "\n",
    "Let's have a closer look to '451.01086' measured feature and how signal\n",
    "correction can be applied.\n"
   ]
  },
  {
   "cell_type": "code",
   "execution_count": null,
   "metadata": {
    "Rmd_chunk_options": "warning=FALSE, message=FALSE, fig.width=6, fig.height=6",
    "autoscroll": false,
    "collapsed": true
   },
   "outputs": [],
   "source": [
    "data <- data.frame(data=sbcdata$data$`451.01086`, batch=batch,\n",
    "    class=factor(class, ordered=TRUE))\n",
    "data$order <- c(1:nrow(data))\n",
    "data$batch <- as.factor(data$batch)\n",
    "\n",
    "ggplot(data=data, aes(x=order, y=log(data,10), col=batch, shape=class)) +\n",
    "    geom_point(size=2) + theme(panel.background=element_blank()) +\n",
    "    scale_color_manual(values=manual_color)"
   ]
  },
  {
   "cell_type": "markdown",
   "metadata": {},
   "source": [
    "\n",
    "In this plot circles and squares represent biological samples and triangles are\n",
    "the QC samples. Analytical batches are represented by colours. Differences in\n",
    "measured intensities can be observed between analytical batches.\n",
    "\n",
    "Similar plot for QC samples only\n",
    "\n"
   ]
  },
  {
   "cell_type": "code",
   "execution_count": null,
   "metadata": {
    "Rmd_chunk_options": "fig.width=6, fig.height=6",
    "autoscroll": false,
    "collapsed": true
   },
   "outputs": [],
   "source": [
    "\n",
    "QCdata <- data[data$class == \"QC\",]\n",
    "\n",
    "ggplot(data=QCdata, aes(x=order, y=log(data,10), col=batch, shape=class)) +\n",
    "    geom_point(size=2) + theme(panel.background=element_blank()) +\n",
    "    scale_color_manual(values=manual_color, drop=FALSE) +\n",
    "    scale_shape_manual(values=c(16, 17, 15), drop=FALSE)"
   ]
  },
  {
   "cell_type": "markdown",
   "metadata": {},
   "source": [
    "\n",
    "This figure indicates that there is signal drift present within each analytical\n",
    "batch and between analytical batches for this feature. Let's have a look at the\n",
    "RSD% for all QC samples and QC samples within each analytical batch.\n",
    "\n"
   ]
  },
  {
   "cell_type": "code",
   "execution_count": null,
   "metadata": {
    "autoscroll": false,
    "collapsed": true
   },
   "outputs": [],
   "source": [
    "FUN <- function(x) sd(x, na.rm=TRUE)/mean(x, na.rm=TRUE) * 100\n",
    "\n",
    "# RSD% of biological and QC samples within all 6 batches:\n",
    "out <- c(NA,NA)\n",
    "names(out) <- c(\"Biological\",\"QC\")\n",
    "out[1] <-FUN(data$data[-QChits])\n",
    "out[2] <-FUN(data$data[QChits])\n",
    "out"
   ]
  },
  {
   "cell_type": "code",
   "execution_count": null,
   "metadata": {
    "autoscroll": false,
    "collapsed": true
   },
   "outputs": [],
   "source": [
    "# RSD% per batch:\n",
    "out <- matrix(ncol=8,nrow=2)\n",
    "colnames(out) <- c(1:8)\n",
    "rownames(out) <- c(\"Biological\",\"QC\")\n",
    "for (i in 1:8) {\n",
    "    out[1, i] <- FUN(data$data[which(!class==\"QC\" & batch==i)])\n",
    "    out[2, i] <- FUN(data$data[which(class==\"QC\" & batch==i)])\n",
    "}\n",
    "\n",
    "out"
   ]
  },
  {
   "cell_type": "markdown",
   "metadata": {},
   "source": [
    "\n",
    "From the outputs above it's clear that variance of measured QC sample\n",
    "intensities between batches is high (RSD% = 50), and is relatively high within\n",
    "batches 1 to 5. For batch 3 QC variation exceeds that of the biological samples.\n",
    "\n",
    "# Signal/batch correction using smoothed spline fitting\n",
    "\n",
    "We will apply QC-RSC signal correction method as it is described in @kirwan2013.\n",
    "\n",
    "The first step involves extracting QC sample data\n",
    "\n"
   ]
  },
  {
   "cell_type": "code",
   "execution_count": null,
   "metadata": {
    "autoscroll": false,
    "collapsed": true
   },
   "outputs": [],
   "source": [
    "qcData <- data$data[class == \"QC\"]\n",
    "qc_batch <- batch[class == \"QC\"]\n",
    "qc_order <- order[class == \"QC\"]\n",
    "\n",
    "qcData\n",
    ""
   ]
  },
  {
   "cell_type": "markdown",
   "metadata": {},
   "source": [
    "\n",
    "Note that the QC data has 1 missing value. Smoothed spline regression doesn't\n",
    "support missing values, so the workaround is to apply missing value imputation\n",
    "or remove the NA values from input to the smoothed spline fit function\n",
    "(which we will do here). We recommend at least 4 QC values be present per batch\n",
    "for the fit to be reliable.\n",
    "\n",
    "The next step involves applying the smoothed spline fit function to the QC\n",
    "sample data within each batch. We will look at the data for batch 6 in detail.\n",
    "\n"
   ]
  },
  {
   "cell_type": "code",
   "execution_count": null,
   "metadata": {
    "autoscroll": false,
    "collapsed": true
   },
   "outputs": [],
   "source": [
    "nbatch <- unique(qc_batch)\n",
    "\n",
    "nb <- 6\n",
    "\n",
    "# Sample measurement order\n",
    "x <- qc_order[qc_batch==nbatch[nb]]\n",
    "\n",
    "# Measured peak intensity or area\n",
    "y <- qcData[qc_batch==nbatch[nb]]\n",
    "y"
   ]
  },
  {
   "cell_type": "markdown",
   "metadata": {},
   "source": [
    "\n",
    "In this example, signal for 1 QC sample wasn't measured, so these samples need\n",
    "to be removed. The smoothed spline regression input will look like this:\n",
    "\n"
   ]
  },
  {
   "cell_type": "code",
   "execution_count": null,
   "metadata": {
    "autoscroll": false,
    "collapsed": true
   },
   "outputs": [],
   "source": [
    "NAhits <- which(is.na(y))\n",
    "if (length(NAhits)>0) {\n",
    "    x <- x[-c(NAhits)]\n",
    "    y <- y[-c(NAhits)]\n",
    "    rbind(x,y)\n",
    "}"
   ]
  },
  {
   "cell_type": "markdown",
   "metadata": {},
   "source": [
    "\n",
    "We will apply a log transformation to the data before fitting\n"
   ]
  },
  {
   "cell_type": "code",
   "execution_count": null,
   "metadata": {
    "autoscroll": false,
    "collapsed": true
   },
   "outputs": [],
   "source": [
    "y <- log((y + sqrt(y^2)) / 2)\n",
    "y"
   ]
  },
  {
   "cell_type": "markdown",
   "metadata": {},
   "source": [
    "\n",
    "Fit a smoothed cubic spline using internal cross-validation for parameter\n",
    "estimation\n"
   ]
  },
  {
   "cell_type": "code",
   "execution_count": null,
   "metadata": {
    "autoscroll": false,
    "collapsed": true
   },
   "outputs": [],
   "source": [
    "sp.obj <- smooth.spline(x, y, cv=TRUE)\n",
    "sp.obj\n",
    "\n",
    "out <- rbind(y,sp.obj$y)\n",
    "row.names(out) <- c(\"measured\",\"fitted\")\n",
    "out"
   ]
  },
  {
   "cell_type": "markdown",
   "metadata": {},
   "source": [
    "\n",
    "Now the smoothed spline fit is used to predict values for  the biological\n",
    "sample for the current batch.\n",
    "\n"
   ]
  },
  {
   "cell_type": "code",
   "execution_count": null,
   "metadata": {
    "Rmd_chunk_options": "fig.width=6, fig.height=6",
    "autoscroll": false,
    "collapsed": true
   },
   "outputs": [],
   "source": [
    "valuePredict=predict(sp.obj, order[batch==nb])\n",
    "\n",
    "plotchr <- as.numeric(data$class)\n",
    "\n",
    "# reverse the log transformation to convert the predictions back to the\n",
    "# original scale\n",
    "valuePredict$y <- exp(valuePredict$y)\n",
    "\n",
    "plotdata <- data.frame(measured=data$data[batch==nb], fitted=valuePredict$y,\n",
    "    Class=class[batch==nb], order=order[batch==nb])\n",
    "plotdata2 <- melt(plotdata, id.vars=c(\"Class\",\"order\"), value.name=\"intensity\",\n",
    "    variable.name=\"data\")\n",
    "\n",
    "ggplot(data=plotdata2, aes(x=order, y=log(intensity,10), color=data,\n",
    "    shape=Class)) + geom_point(size=2) +\n",
    "    theme(panel.background=element_blank()) +\n",
    "    scale_color_manual(values=manual_color) +\n",
    "    scale_shape_manual(values=c(16, 17, 15), drop=FALSE)"
   ]
  },
  {
   "cell_type": "markdown",
   "metadata": {},
   "source": [
    "\n",
    "The figure above shows the original data points in blue and the fitted data in\n",
    "red. Triangles represent QC samples.\n",
    "\n",
    "The next step in signal correction is to \"flatten\" the fitted curve to correct\n",
    "for signal drift. This can usually be done by subtracting the fitted values\n",
    "from the actual measured values for each feature. To avoid getting negative\n",
    "values we will add the median value of the feature to the corrected data.\n",
    "\n"
   ]
  },
  {
   "cell_type": "code",
   "execution_count": null,
   "metadata": {
    "Rmd_chunk_options": "fig.width=6, fig.height=6, warning=FALSE",
    "autoscroll": false,
    "collapsed": true
   },
   "outputs": [],
   "source": [
    "fitmedian <- median(plotdata$measured, na.rm=TRUE)\n",
    "plotdata$corrected_subt <- (plotdata$measured - plotdata$fitted) + fitmedian\n",
    "\n",
    "plotdata2 <- melt(plotdata, id.vars=c(\"Class\",\"order\"),\n",
    "    value.name=\"intensity\", variable.name=\"data\")\n",
    "\n",
    "plotdata_class <- as.character(plotdata2$Class)\n",
    "plotdata_class[plotdata_class == \"S\"] <- \"Sample\"\n",
    "plotdata_class[plotdata_class == \"C\"] <- \"Sample\"\n",
    "plotdata2$Class <- factor(plotdata_class)\n",
    "\n",
    "ggplot(data=plotdata2, aes(x=order, y=intensity, color=data, shape=Class)) +\n",
    "    geom_point(size=2) + theme(panel.background=element_blank()) +\n",
    "    scale_color_manual(values=manual_color) +\n",
    "    facet_grid(Class ~ .) +\n",
    "    scale_shape_manual(values=c(17, 16), drop=FALSE)"
   ]
  },
  {
   "cell_type": "markdown",
   "metadata": {},
   "source": [
    "\n",
    "An alternative to subtraction of the fitted values is to divide them by the\n",
    "median of the fit and use the resulting coefficients to correct the data points.\n",
    "The same general relative trends should be observed in either case.\n",
    "\n"
   ]
  },
  {
   "cell_type": "code",
   "execution_count": null,
   "metadata": {
    "Rmd_chunk_options": "fig.width=6, fig.height=6, warning=FALSE",
    "autoscroll": false,
    "collapsed": true
   },
   "outputs": [],
   "source": [
    "plotdata$corrected_div <- plotdata$measured/(plotdata$fitted/fitmedian)\n",
    "\n",
    "plotdata3 <- plotdata[,c(\"Class\", \"order\", \"corrected_subt\", \"corrected_div\")]\n",
    "\n",
    "plotdata3 <- melt(plotdata3, id.vars=c(\"Class\",\"order\"),\n",
    "    value.name=\"intensity\", variable.name=\"data\")\n",
    "\n",
    "plotdata_class <- as.character(plotdata3$Class)\n",
    "plotdata_class[plotdata_class==\"S\"] <- \"Sample\"\n",
    "plotdata_class[plotdata_class==\"C\"] <- \"Sample\"\n",
    "plotdata3$Class <- factor(plotdata_class)\n",
    "\n",
    "ggplot(data=plotdata3, aes(x=order, y=intensity, color=data, shape=Class)) +\n",
    "    geom_point(size=2) + theme(panel.background=element_blank()) +\n",
    "    scale_color_manual(values=manual_color) +\n",
    "    geom_smooth(se=FALSE) + facet_grid(Class ~ .)\n",
    ""
   ]
  },
  {
   "cell_type": "markdown",
   "metadata": {},
   "source": [
    "\n",
    "So far we have applied signal correction for data points within one analytical\n",
    "batch. The code below will perform the same steps for each of the 8 batches.\n",
    "\n"
   ]
  },
  {
   "cell_type": "code",
   "execution_count": null,
   "metadata": {
    "Rmd_chunk_options": "fig.width=6, fig.height=6, warning=FALSE",
    "autoscroll": false,
    "collapsed": true
   },
   "outputs": [],
   "source": [
    "\n",
    "outl <- rep(NA, nrow(data))\n",
    "\n",
    "for (nb in 1:length(nbatch)){\n",
    "    # assigning sample injection order for a batch to 'x', and corresponding\n",
    "    # intensities to 'y'\n",
    "    x <- qc_order[qc_batch == nbatch[nb]]\n",
    "    y <- qcData[qc_batch == nbatch[nb]]\n",
    "\n",
    "    # remove measurements with missing values\n",
    "    NAhits <- which(is.na(y))\n",
    "    if (length(NAhits) > 0) {\n",
    "        x <- x[-c(NAhits)]\n",
    "        y <- y[-c(NAhits)]\n",
    "    }\n",
    "\n",
    "    # require at least 4 data points for QC fit\n",
    "    if (length(y) >= 4) {\n",
    "        range <- c(batch == nbatch[nb])\n",
    "        # Order is a vector of sample indices for the current batch\n",
    "        outl[range] <- sbcms:::splineSmoother(x=x, y=y, newX=order[range],\n",
    "        log=TRUE, a=1, spar=0)\n",
    "\n",
    "        # If less than 5 data points are present, return empty values\n",
    "    } else {\n",
    "        range <- c(batch == nbatch[nb])\n",
    "        outl[range] <- rep(NA, nrow(data))[range]\n",
    "    }\n",
    "}\n",
    "\n",
    "plotdata <- data.frame(measured=data$data, fitted=outl, Class=class,\n",
    "    batch=batch, order=c(1:nrow(data)))\n",
    "plotdata2 <- melt(plotdata, id.vars=c(\"batch\",\"Class\",\"order\"),\n",
    "    value.name=\"intensity\", variable.name=\"data\")\n",
    "\n",
    "ggplot(data=plotdata2, aes(x=order, y=log(intensity,10),\n",
    "    color=data, shape=Class)) + geom_point(alpha=0.5, size=2) +\n",
    "    theme(panel.background=element_blank()) +\n",
    "    scale_color_manual(values=manual_color)\n",
    ""
   ]
  },
  {
   "cell_type": "markdown",
   "metadata": {},
   "source": [
    "\n",
    "After smoothed spline fit per each batch is calculated, we can apply signal\n",
    "correction within each batch.\n",
    "\n"
   ]
  },
  {
   "cell_type": "code",
   "execution_count": null,
   "metadata": {
    "Rmd_chunk_options": "fig.width=6, fig.height=6, warning=FALSE",
    "autoscroll": false,
    "collapsed": true
   },
   "outputs": [],
   "source": [
    "\n",
    "# median intensity value is used to adjust batch effect\n",
    "\n",
    "mpa <- rep(NA, nrow(data))\n",
    "\n",
    "for (bch in 1:8) {\n",
    "    mpa[batch==bch] <- median(data$data[batch==bch], na.rm=TRUE)\n",
    "}\n",
    "\n",
    "\n",
    "QC_fit <- outl/mpa\n",
    "\n",
    "# and correct actual data\n",
    "res <- data$data/QC_fit\n",
    "\n",
    "# correct data using subtratcion\n",
    "res2 <- (data$data -outl) +mpa\n",
    "\n",
    "plotdata <- data.frame(measured=data$data, corrected_subt=res2,\n",
    "    corrected_div=res, Class=class, batch=batch, order=c(1:nrow(data)))\n",
    "plotdata2 <- melt(plotdata, id.vars=c(\"batch\",\"Class\",\"order\"),\n",
    "    value.name=\"intensity\", variable.name=\"data\")\n",
    "\n",
    "ggplot(data=plotdata2, aes(x=order, y=log(intensity,10),\n",
    "    color=data, shape=Class)) + geom_point(alpha=0.2, size=2) +\n",
    "    theme(panel.background=element_blank()) +\n",
    "    scale_color_manual(values=manual_color) +\n",
    "    geom_smooth(se=FALSE) +\n",
    "    facet_grid(Class ~ .)"
   ]
  },
  {
   "cell_type": "markdown",
   "metadata": {},
   "source": [
    "\n",
    "The figure above shows the measured data points in blue and the corrected values\n",
    "using subtraction (red) or division(green). Fitted smoothed spline curves of\n",
    "the corrected data over all batches still indicates that there is batch related\n",
    "signal drift in the data. This can be corrected using the \"grand median\".\n",
    "\n",
    "First, a grand median is calculated across all batches, and then difference\n",
    "between each batch median and the grand median is subtracted from all the\n",
    "samples in that batch, to remove the difference.\n",
    "\n"
   ]
  },
  {
   "cell_type": "code",
   "execution_count": null,
   "metadata": {
    "Rmd_chunk_options": "fig.width=6, fig.height=6, warning=FALSE",
    "autoscroll": false,
    "collapsed": true
   },
   "outputs": [],
   "source": [
    "mpa <- rep(NA, nrow(data))\n",
    "\n",
    "for (bch in 1:8) {\n",
    "    mpa[batch == bch] <- median(res2[batch == bch], na.rm=TRUE)\n",
    "}\n",
    "\n",
    "grandMedian <- median(res2, na.rm=TRUE)\n",
    "\n",
    "mpa <- mpa - grandMedian\n",
    "\n",
    "plotdata$corrected_subt <- plotdata$corrected_subt - mpa\n",
    "\n",
    "mpa <- rep(NA, nrow(data))\n",
    "\n",
    "for (bch in 1:8) {\n",
    "    mpa[batch == bch] <- median(res[batch == bch], na.rm=TRUE)\n",
    "}\n",
    "\n",
    "grandMedian <- median(res, na.rm=TRUE)\n",
    "\n",
    "mpa <- mpa - grandMedian\n",
    "\n",
    "plotdata$corrected_div <- plotdata$corrected_div - mpa\n",
    "\n",
    "plotdata2 <- melt(plotdata, id.vars=c(\"batch\",\"Class\",\"order\"),\n",
    "    value.name=\"intensity\", variable.name=\"data\")\n",
    "\n",
    "ggplot(data=plotdata2, aes(x=order, y=log(intensity,10),\n",
    "    color=data, shape=Class)) + geom_point(alpha=0.2, size=2) +\n",
    "    theme(panel.background=element_blank()) +\n",
    "    scale_color_manual(values=manual_color) +\n",
    "    geom_smooth(se=FALSE) +\n",
    "    facet_grid(Class ~ .)"
   ]
  },
  {
   "cell_type": "markdown",
   "metadata": {},
   "source": [
    "\n",
    "We can calculate RSD% before and after correction.\n",
    "\n"
   ]
  },
  {
   "cell_type": "code",
   "execution_count": null,
   "metadata": {
    "Rmd_chunk_options": "fig.width=6, fig.height=6, warning=FALSE",
    "autoscroll": false,
    "collapsed": true
   },
   "outputs": [],
   "source": [
    "FUN <- function(x) sd(x, na.rm=TRUE)/mean(x, na.rm=TRUE) * 100\n",
    "\n",
    "# RSD% of biological and QC samples within all 6 batches:\n",
    "out <- matrix(nrow=2, ncol=2)\n",
    "colnames(out) <- c(\"Biological\",\"QC\")\n",
    "rownames(out) <- c(\"measured\", \"corrected\")\n",
    "out[1,1] <-FUN(data$data[-QChits])\n",
    "out[1,2] <-FUN(data$data[QChits])\n",
    "out[2,1] <-FUN(res[-QChits])\n",
    "out[2,2] <-FUN(res[QChits])\n",
    "\n",
    "round(out, 2)\n",
    "\n",
    "# RSD% per batch:\n",
    "out <- matrix(ncol=8,nrow=4)\n",
    "colnames(out) <- c(1:8)\n",
    "rownames(out) <- c(\"Biological\",\"QC\",\"Corrected biological\",\"Corrected QC\")\n",
    "for(i in 1:8) {\n",
    "    out[1, i] <- FUN(data$data[which(!class==\"QC\" & batch==i)])\n",
    "    out[2, i] <- FUN(data$data[which(class==\"QC\" & batch==i)])\n",
    "    out[3, i] <- FUN(res[which(!class==\"QC\" & batch==i)])\n",
    "    out[4, i] <- FUN(res[which(class==\"QC\" & batch==i)])\n",
    "}\n",
    "\n",
    "round(out, 2)"
   ]
  },
  {
   "cell_type": "markdown",
   "metadata": {},
   "source": [
    "\n",
    "The data has now been corrected for batch and signal drift effects.\n",
    "\n",
    "All the steps from example above can be applied to all or susbet of features in\n",
    "the data set using 'sbcms' function \"QCRSC\".\n",
    "\n"
   ]
  },
  {
   "cell_type": "code",
   "execution_count": null,
   "metadata": {
    "Rmd_chunk_options": "message=FALSE, warning=FALSE, include=FALSE",
    "autoscroll": false,
    "collapsed": true
   },
   "outputs": [],
   "source": [
    "data <- sbcdata$data[, seq(1, 2000, 100)]\n",
    "\n",
    "# Note that input for QCRSC function needs samples to be in columns\n",
    "# and features in rows\n",
    "data <- t(data)\n",
    "\n",
    "class <- sbcdata$class\n",
    "batch <- sbcdata$batch\n",
    "sample_order <- c(1:ncol(data))\n",
    "\n",
    "corrected_data <- sbcms::QCRSC(df=data, order=sample_order, batch=batch,\n",
    "    classes=class, spar=0, minQC=4)\n",
    "\n",
    "# Transose both original data and corrected data back to samples in rows format\n",
    "data <- t(data)\n",
    "corrected_data <- t(corrected_data)"
   ]
  },
  {
   "cell_type": "markdown",
   "metadata": {},
   "source": [
    "\n",
    "We can calculate RSD% statistics per batch before and after correction and\n",
    "visualise the results with a box plot.\n",
    "\n"
   ]
  },
  {
   "cell_type": "code",
   "execution_count": null,
   "metadata": {
    "Rmd_chunk_options": "fig.width=6, fig.height=6, warning=FALSE",
    "autoscroll": false,
    "collapsed": true
   },
   "outputs": [],
   "source": [
    "RSDQC <- matrix(ncol=8, nrow=ncol(data))\n",
    "RSDsample <- matrix(ncol=8, nrow=ncol(data))\n",
    "colnames(RSDQC) <- unique(batch)\n",
    "colnames(RSDsample) <- unique(batch)\n",
    "\n",
    "RSDQC_corrected <- matrix(ncol=8, nrow=ncol(data))\n",
    "RSDsample_corrected <- matrix(ncol=8, nrow=ncol(data))\n",
    "colnames(RSDQC_corrected) <- unique(batch)\n",
    "colnames(RSDsample_corrected) <- unique(batch)\n",
    "\n",
    "rownames(RSDQC) <- colnames(data)\n",
    "rownames(RSDsample) <- colnames(data)\n",
    "rownames(RSDQC_corrected) <- colnames(data)\n",
    "rownames(RSDsample_corrected) <- colnames(data)\n",
    "\n",
    "# for each feature\n",
    "for (i in 1:ncol(data)) {\n",
    "    # for each batch\n",
    "    for (nb in 1:8) {\n",
    "        # RSD% of QCs in this batch\n",
    "        RSDQC[i, nb] <- FUN(data[which(class == \"QC\" & batch == nb), i])\n",
    "        # RSD% of samples in this batch\n",
    "        RSDsample[i, nb] <- FUN(data[which(!class == \"QC\" & batch == nb), i])\n",
    "        # RSD% of QCs in this batch after correction\n",
    "        RSDQC_corrected[i, nb] <- FUN(corrected_data[which(class == \"QC\"\n",
    "            & batch == nb), i])\n",
    "        # RSD% of samples in this batch after correction\n",
    "        RSDsample_corrected[i, nb] <- FUN(corrected_data[which(!class == \"QC\"\n",
    "            & batch == nb), i])\n",
    "    }\n",
    "}\n",
    "\n",
    "# prepare results for plotting\n",
    "plotdataQC <- melt(as.data.frame(RSDQC), variable.name=\"batch\",\n",
    "    value.name=\"RSD\")\n",
    "plotdataQC$Class <- \"QC\"\n",
    "\n",
    "plotdataBio <- melt(as.data.frame(RSDsample), variable.name=\"batch\",\n",
    "    value.name=\"RSD\")\n",
    "plotdataBio$Class <- \"Sample\"\n",
    "\n",
    "plotdataQC_corrected <- melt(as.data.frame(RSDQC_corrected),\n",
    "    variable.name=\"batch\", value.name=\"RSD\")\n",
    "plotdataQC_corrected$Class <- \"QC_corr\"\n",
    "\n",
    "plotdataBio_corrected <- melt(as.data.frame(RSDsample_corrected),\n",
    "    variable.name=\"batch\", value.name=\"RSD\")\n",
    "plotdataBio_corrected$Class <- \"Sample_corr\"\n",
    "\n",
    "plotdata <- rbind(plotdataQC, plotdataQC_corrected)\n",
    "\n",
    "plotdata$Class <- as.factor(plotdata$Class)\n",
    "\n",
    "# plot\n",
    "ggplot(data=plotdata, aes(x=Class, y=RSD, fill=Class)) + geom_boxplot() +\n",
    "    facet_wrap(~ batch, ncol=3) +\n",
    "    ylab(\"RSD%\") +\n",
    "    theme(panel.background=element_blank()) +\n",
    "    scale_y_continuous(limits=c(0, 50))\n",
    "\n",
    "plotdata <- rbind(plotdataBio, plotdataBio_corrected)\n",
    "\n",
    "plotdata$Class <- as.factor(plotdata$Class)\n",
    "\n",
    "# plot\n",
    "ggplot(data=plotdata, aes(x=Class, y=RSD, fill=Class)) + geom_boxplot() +\n",
    "    facet_wrap(~ batch, ncol=3) +\n",
    "    ylab(\"RSD%\") +\n",
    "    theme(panel.background=element_blank())\n",
    ""
   ]
  },
  {
   "cell_type": "markdown",
   "metadata": {},
   "source": [
    "\n",
    "Or compare the scores plots of principal components analysis (PCA) before\n",
    "and after correction.\n",
    "\n"
   ]
  },
  {
   "cell_type": "code",
   "execution_count": null,
   "metadata": {
    "Rmd_chunk_options": "fig.width=6, fig.height=8",
    "autoscroll": false,
    "collapsed": true
   },
   "outputs": [],
   "source": [
    "# PQN used to normalise data\n",
    "# KNN for missing value imputation\n",
    "# glog scaling method\n",
    "# A more detailed overview is detailed in\n",
    "# Di Guida et al, Metabolomics, 12:93, 2016\n",
    "# https://dx.doi.org/10.1007/s11306-016-1030-9\n",
    "\n",
    "pca_data <- pmp::pqn_normalisation(data, classes=class, qc_label=\"QC\")[[1]]\n",
    "pca_data <- pmp::mv_imputation(pca_data, method=\"KNN\", k=5, rowmax=0.5,\n",
    "    colmax=0.5, maxp=NULL, check_df=FALSE)\n",
    "pca_data <- pmp::glog_transformation(pca_data, classes=class, qc_label=\"QC\")\n",
    "\n",
    "pca_corrected_data <- pmp::pqn_normalisation(corrected_data, classes=class,\n",
    "    qc_label=\"QC\")[[1]]\n",
    "pca_corrected_data <- pmp::mv_imputation(pca_corrected_data, method=\"KNN\", k=5,\n",
    "    rowmax=0.5, colmax=0.5, maxp=NULL, check_df=FALSE)\n",
    "pca_corrected_data <- pmp::glog_transformation(pca_corrected_data,\n",
    "    classes=class, qc_label=\"QC\")\n",
    "\n",
    "pca_data <- prcomp(t(pca_data), center=TRUE, scale=FALSE)\n",
    "pca_corrected_data <- prcomp(t(pca_corrected_data), center=TRUE, scale=FALSE)\n",
    "\n",
    "# Calculate percentage of explained variance of the first two PC's\n",
    "exp_var_pca <- round(((pca_data$sdev^2)/sum(pca_data$sdev^2)*100)[1:2],2)\n",
    "exp_var_pca_corrected <- round(((pca_corrected_data$sdev^2) /\n",
    "    sum(pca_corrected_data$sdev^2)*100)[1:2],2)\n",
    "\n",
    "plots <- list()\n",
    "\n",
    "plotdata <- data.frame(PC1=pca_data$x[, 1], PC2=pca_data$x[, 2],\n",
    "    batch=as.factor(batch), class=class)\n",
    "\n",
    "plots[[1]] <- ggplot(data=plotdata, aes(x=PC1, y=PC2, col=batch)) +\n",
    "    geom_point(size=2) + theme(panel.background=element_blank()) +\n",
    "    scale_color_manual(values=manual_color) +\n",
    "    ggtitle(\"PCA scores, before correction\") +\n",
    "    xlab(paste0(\"PC1 (\", exp_var_pca[1] ,\" %)\")) +\n",
    "    ylab(paste0(\"PC2 (\", exp_var_pca[2] ,\" %)\"))\n",
    "\n",
    "plots[[2]] <- ggplot(data=plotdata, aes(x=PC1, y=PC2, col=class)) +\n",
    "    geom_point(size=2) + theme(panel.background=element_blank()) +\n",
    "    scale_color_manual(values=manual_color) +\n",
    "    ggtitle(\"PCA scores, before correction\") +\n",
    "    xlab(paste0(\"PC1 (\", exp_var_pca[1] ,\" %)\")) +\n",
    "    ylab(paste0(\"PC2 (\", exp_var_pca[2] ,\" %)\"))\n",
    "\n",
    "plotdata_corr <- data.frame(PC1=pca_corrected_data$x[, 1],\n",
    "    PC2=pca_corrected_data$x[, 2], batch=as.factor(batch), class=class)\n",
    "\n",
    "plots[[3]] <- ggplot(data=plotdata_corr, aes(x=PC1, y=PC2, col=batch)) +\n",
    "    geom_point(size=2) +\n",
    "    theme(panel.background=element_blank()) +\n",
    "    scale_color_manual(values=manual_color) +\n",
    "    ggtitle(\"PCA scores, after correction\") +\n",
    "    xlab(paste0(\"PC1 (\", exp_var_pca_corrected[1] ,\" %)\")) +\n",
    "    ylab(paste0(\"PC2 (\", exp_var_pca_corrected[2] ,\" %)\"))\n",
    "\n",
    "plots[[4]] <- ggplot(data=plotdata_corr, aes(x=PC1, y=PC2, col=class)) +\n",
    "    geom_point(size=2) +\n",
    "    theme(panel.background=element_blank()) +\n",
    "    scale_color_manual(values=manual_color) +\n",
    "    ggtitle(\"PCA scores, after correction\") +\n",
    "    xlab(paste0(\"PC1 (\", exp_var_pca_corrected[1] ,\" %)\")) +\n",
    "    ylab(paste0(\"PC2 (\", exp_var_pca_corrected[2] ,\" %)\"))\n",
    "\n",
    "grid.arrange(ncol=2, plots[[1]], plots[[2]], plots[[3]], plots[[4]])"
   ]
  },
  {
   "cell_type": "markdown",
   "metadata": {},
   "source": [
    "\n",
    "# References\n",
    "\n"
   ]
  }
 ],
 "metadata": {
  "Rmd_header": {
   "author": {
    "affiliation": "Phenome Centre Birmingham, University of Birmingham",
    "email": "a.jankevics@bham.ac.uk",
    "name": "Andris Jankevics"
   },
   "bibliography": "sbcms.bib",
   "date": "`r Sys.Date()`",
   "output": {
    "BiocStyle::html_document": {
     "number_sections": true,
     "toc": true,
     "toc_depth": 2,
     "toc_float": true
    }
   },
   "package": "sbcms",
   "title": "Signal and Batch Correction, data assesment and correction",
   "vignette": "\n%\\VignetteIndexEntry{sbcms-algorithm}\n%\\VignetteEncoding{UTF-8}\n%\\VignetteEngine{knitr::rmarkdown}\n"
  },
  "kernelspec": {
   "display_name": "R",
   "language": "R",
   "name": "ir"
  },
  "language_info": {
   "codemirror_mode": "r",
   "file_extension": ".r",
   "mimetype": "text/x-r-source",
   "name": "R",
   "pygments_lexer": "r"
  }
 },
 "nbformat": 4,
 "nbformat_minor": 0
}
