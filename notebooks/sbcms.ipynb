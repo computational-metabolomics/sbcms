{
 "cells": [
  {
   "cell_type": "code",
   "execution_count": null,
   "metadata": {
    "Rmd_chunk_options": "setup, include = FALSE",
    "autoscroll": false,
    "collapsed": true
   },
   "outputs": [],
   "source": [
    "knitr::opts_chunk$set(\n",
    "    collapse = TRUE,\n",
    "    comment = \"#>\"\n",
    ")"
   ]
  },
  {
   "cell_type": "markdown",
   "metadata": {},
   "source": [
    "\n",
    "# Introduction\n",
    "\n",
    "R package sbcms (Signal & Batch Correction for Mass Spectrometry) is an\n",
    "implementation of Quality Control-Robust Spline Correction (QC-RSC)\n",
    "[@Kirwan2013] algorithm for signal drift and batch effect correction\n",
    "within/across a multi-batch direct infusion mass spectrometry (DIMS) and\n",
    "liquid chromatography mass spectrometry (LCMS) datasets.\n",
    "\n",
    "# Installation\n",
    "\n",
    "You should have R version 3.4.1 or above and Rstudio installed to be able to\n",
    "run this notebook.\n",
    "\n",
    "Execute following commands from the R terminal.\n",
    "\n",
    "\n"
   ]
  },
  {
   "cell_type": "code",
   "execution_count": null,
   "metadata": {
    "Rmd_chunk_options": "echo=TRUE, message=FALSE, warning=FALSE, eval=FALSE",
    "autoscroll": false,
    "collapsed": true
   },
   "outputs": [],
   "source": [
    "install.packages(\"devtools\")\n",
    "install.packages(\"ggplot2\")\n",
    "install.packages(\"gridExtra\")\n",
    "\n",
    "devtools::install_github(\"computational-metabolomics/pmp\")\n",
    "devtools::install_github(\"computational-metabolomics/sbcms\")"
   ]
  },
  {
   "cell_type": "markdown",
   "metadata": {},
   "source": [
    "\n",
    "Load the required libraries into the R environment\n"
   ]
  },
  {
   "cell_type": "code",
   "execution_count": null,
   "metadata": {
    "Rmd_chunk_options": "message=FALSE, warning=FALSE",
    "autoscroll": false,
    "collapsed": true
   },
   "outputs": [],
   "source": [
    "library(sbcms)\n",
    "library(ggplot2)\n",
    "library(reshape2)\n",
    "library(gridExtra)\n",
    "library(pmp)"
   ]
  },
  {
   "cell_type": "markdown",
   "metadata": {},
   "source": [
    "\n",
    "# Data set\n",
    "\n",
    "We will be using a small subset of 20 features of an DIMS data set consisting\n",
    "of 172 samples measured across 8 batches.\n",
    "More detailed description of the data set is available from\n",
    "@kirwan2014 and\n",
    "[MTBLS79](https://www.ebi.ac.uk/metabolights/MTBLS79).\n",
    "\n"
   ]
  },
  {
   "cell_type": "code",
   "execution_count": null,
   "metadata": {
    "autoscroll": false,
    "collapsed": true
   },
   "outputs": [],
   "source": [
    "# DIMS data set is included in 'sbcms' package.\n",
    "# (MTBLS79) [https://www.ebi.ac.uk/metabolights/MTBLS79]\n",
    "\n",
    "data <- sbcdata$data\n",
    "class <- sbcdata$class\n",
    "batch <- sbcdata$batch\n",
    "sample_order <- c(1:nrow(data))\n",
    "\n",
    "# Input data frame or matrix should have features in rows and samples in columns\n",
    "data <- t(data)\n",
    "\n",
    "# Input data structure\n",
    "data[1:5, 1:10]\n",
    "\n",
    "class[1:10]\n",
    "batch[1:10]\n",
    "sample_order[1:10]"
   ]
  },
  {
   "cell_type": "markdown",
   "metadata": {},
   "source": [
    "\n",
    "# Applying signal and batch correction\n",
    "\n",
    "Function QCRSC should be used to apply signal batch correction.\n",
    "Input peak table should be in format where features are in rows and samples in\n",
    "columns.\n",
    "\n",
    "Argument 'order' should be numeric vector containing sample injection\n",
    "order during analytical measurement and should be the same length as number of\n",
    "columns in peak table.\n",
    "\n",
    "Argument `batch' should be numeric vector containing values of sample batch\n",
    "number. If all samples were measured in 1 batch, then all values in the 'batch'\n",
    "vector should be '1'.\n",
    "\n",
    "Values for 'classes' should be character vector containing sample class labels.\n",
    "Class label for quality control sample has to be \"QC\".\n",
    "\n"
   ]
  },
  {
   "cell_type": "code",
   "execution_count": null,
   "metadata": {
    "autoscroll": false,
    "collapsed": true
   },
   "outputs": [],
   "source": [
    "corrected_data <- sbcms::QCRSC(df=data, order=sample_order, batch=batch,\n",
    "    classes=class, spar=0, minQC=4)"
   ]
  },
  {
   "cell_type": "markdown",
   "metadata": {},
   "source": [
    "\n",
    "# Visualising results\n",
    "\n",
    "Function 'sbcmsPlot' is providing visual comparison of data before and after\n",
    "correction. Fore example we can check output for features '1', '5', and '30' in\n",
    "peak matrix.\n"
   ]
  },
  {
   "cell_type": "code",
   "execution_count": null,
   "metadata": {
    "Rmd_chunk_options": "message=FALSE, warning=FALSE, fig.height=6, fig.width=6",
    "autoscroll": false,
    "collapsed": true
   },
   "outputs": [],
   "source": [
    "plots <- sbcmsPlot (df=data, corrected_df=corrected_data, classes=class,\n",
    "    batch=batch, output=NULL, indexes=c(1, 5, 30))\n",
    "plots"
   ]
  },
  {
   "cell_type": "markdown",
   "metadata": {},
   "source": [
    "\n",
    "The scores plots of principal components analysis (PCA) before\n",
    "and after correction can be used to asses effects of data correction.\n",
    "\n",
    "In this example, PQN method used to normalise data,\n",
    "KNN used for missing value imputation and glog for data scaling.\n",
    "\n",
    "A more detailed overview on data pre-processing is detailed in @guida2016.\n",
    "\n"
   ]
  },
  {
   "cell_type": "code",
   "execution_count": null,
   "metadata": {
    "Rmd_chunk_options": "fig.width=6, fig.height=8",
    "autoscroll": false,
    "collapsed": true
   },
   "outputs": [],
   "source": [
    "\n",
    "manual_color = c(\"#386cb0\", \"#ef3b2c\", \"#7fc97f\", \"#fdb462\", \"#984ea3\",\n",
    "    \"#a6cee3\", \"#778899\", \"#fb9a99\", \"#ffff33\")\n",
    "\n",
    "pca_data <- pmp::pqn_normalisation(data, classes=class, qc_label=\"QC\")[[1]]\n",
    "pca_data <- pmp::mv_imputation(pca_data, method=\"KNN\", k=5, rowmax=0.5,\n",
    "    colmax=0.5, maxp=NULL, check_df=FALSE)\n",
    "pca_data <- pmp::glog_transformation(pca_data, classes=class, qc_label=\"QC\")\n",
    "\n",
    "pca_corrected_data <- pmp::pqn_normalisation(corrected_data, classes=class,\n",
    "    qc_label=\"QC\")[[1]]\n",
    "pca_corrected_data <- pmp::mv_imputation(pca_corrected_data, method=\"KNN\", k=5,\n",
    "    rowmax=0.5, colmax=0.5, maxp=NULL, check_df=FALSE)\n",
    "pca_corrected_data <- pmp::glog_transformation(pca_corrected_data,\n",
    "    classes=class, qc_label=\"QC\")\n",
    "\n",
    "pca_data <- prcomp(t(pca_data), center=TRUE, scale=FALSE)\n",
    "pca_corrected_data <- prcomp(t(pca_corrected_data), center=TRUE, scale=FALSE)\n",
    "\n",
    "# Calculate percentage of explained variance of the first two PC's\n",
    "exp_var_pca <- round(((pca_data$sdev^2)/sum(pca_data$sdev^2)*100)[1:2],2)\n",
    "exp_var_pca_corrected <- round(((pca_corrected_data$sdev^2) /\n",
    "    sum(pca_corrected_data$sdev^2)*100)[1:2],2)\n",
    "\n",
    "plots <- list()\n",
    "\n",
    "plotdata <- data.frame(PC1=pca_data$x[, 1], PC2=pca_data$x[, 2],\n",
    "    batch=as.factor(batch), class=class)\n",
    "\n",
    "plots[[1]] <- ggplot(data=plotdata, aes(x=PC1, y=PC2, col=batch)) +\n",
    "    geom_point(size=2) + theme(panel.background=element_blank()) +\n",
    "    scale_color_manual(values=manual_color) +\n",
    "    ggtitle(\"PCA scores, before correction\") +\n",
    "    xlab(paste0(\"PC1 (\", exp_var_pca[1] ,\" %)\")) +\n",
    "    ylab(paste0(\"PC2 (\", exp_var_pca[2] ,\" %)\"))\n",
    "\n",
    "plots[[2]] <- ggplot(data=plotdata, aes(x=PC1, y=PC2, col=class)) +\n",
    "    geom_point(size=2) + theme(panel.background=element_blank()) +\n",
    "    scale_color_manual(values=manual_color) +\n",
    "    ggtitle(\"PCA scores, before correction\") +\n",
    "    xlab(paste0(\"PC1 (\", exp_var_pca[1] ,\" %)\")) +\n",
    "    ylab(paste0(\"PC2 (\", exp_var_pca[2] ,\" %)\"))\n",
    "\n",
    "plotdata_corr <- data.frame(PC1=pca_corrected_data$x[, 1],\n",
    "    PC2=pca_corrected_data$x[, 2], batch=as.factor(batch), class=class)\n",
    "\n",
    "plots[[3]] <- ggplot(data=plotdata_corr, aes(x=PC1, y=PC2, col=batch)) +\n",
    "    geom_point(size=2) +\n",
    "    theme(panel.background=element_blank()) +\n",
    "    scale_color_manual(values=manual_color) +\n",
    "    ggtitle(\"PCA scores, after correction\") +\n",
    "    xlab(paste0(\"PC1 (\", exp_var_pca_corrected[1] ,\" %)\")) +\n",
    "    ylab(paste0(\"PC2 (\", exp_var_pca_corrected[2] ,\" %)\"))\n",
    "\n",
    "plots[[4]] <- ggplot(data=plotdata_corr, aes(x=PC1, y=PC2, col=class)) +\n",
    "    geom_point(size=2) +\n",
    "    theme(panel.background=element_blank()) +\n",
    "    scale_color_manual(values=manual_color) +\n",
    "    ggtitle(\"PCA scores, after correction\") +\n",
    "    xlab(paste0(\"PC1 (\", exp_var_pca_corrected[1] ,\" %)\")) +\n",
    "    ylab(paste0(\"PC2 (\", exp_var_pca_corrected[2] ,\" %)\"))\n",
    "\n",
    "grid.arrange(ncol=2, plots[[1]], plots[[2]], plots[[3]], plots[[4]])"
   ]
  },
  {
   "cell_type": "markdown",
   "metadata": {},
   "source": [
    "\n",
    "# References\n"
   ]
  }
 ],
 "metadata": {
  "Rmd_header": {
   "author": {
    "affiliation": "Phenome Centre Birmingham, University of Birmingham",
    "email": "a.jankevics@bham.ac.uk",
    "name": "Andris Jankevics"
   },
   "bibliography": "sbcms.bib",
   "date": "`r Sys.Date()`",
   "output": {
    "BiocStyle::html_document": {
     "number_sections": true,
     "toc": true,
     "toc_depth": 2,
     "toc_float": true
    }
   },
   "package": "sbcms",
   "title": "Signal and Batch Correction for Mass Spectrometry (sbcms)",
   "vignette": "\n%\\VignetteIndexEntry{sbcms}\n%\\VignetteEngine{knitr::rmarkdown}\n%\\VignetteEncoding{UTF-8}\n"
  },
  "kernelspec": {
   "display_name": "R",
   "language": "R",
   "name": "ir"
  },
  "language_info": {
   "codemirror_mode": "r",
   "file_extension": ".r",
   "mimetype": "text/x-r-source",
   "name": "R",
   "pygments_lexer": "r"
  }
 },
 "nbformat": 4,
 "nbformat_minor": 0
}
